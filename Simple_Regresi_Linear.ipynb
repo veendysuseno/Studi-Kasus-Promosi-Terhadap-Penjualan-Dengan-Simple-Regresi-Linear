{
 "cells": [
  {
   "cell_type": "markdown",
   "id": "ce7bc221",
   "metadata": {},
   "source": [
    "# Implementasi Program Python Machine Learnig Menggunakan Metode Simple Regresi Linear dengan Studi Kasus Biaya Promosi Terhadap Nilai Penjualan pada Data Sales_Data.csv"
   ]
  },
  {
   "cell_type": "markdown",
   "id": "c74be9e8",
   "metadata": {},
   "source": [
    "## 1. Memanggil Library"
   ]
  },
  {
   "cell_type": "code",
   "execution_count": 38,
   "id": "a66037e3",
   "metadata": {},
   "outputs": [],
   "source": [
    "## 1.Mempersiapkan Library\n",
    "import numpy as np\n",
    "import pandas as pd\n",
    "import matplotlib.pyplot as plt\n",
    "import sklearn"
   ]
  },
  {
   "cell_type": "markdown",
   "id": "29ef682d",
   "metadata": {},
   "source": [
    "## 2. Memanggil Dataset"
   ]
  },
  {
   "cell_type": "code",
   "execution_count": 33,
   "id": "8e98e883",
   "metadata": {},
   "outputs": [],
   "source": [
    "#Memanggil dataset yang sudah disiapkan Sale_Data.CSV\n",
    "#Memanggil library pandas\n",
    "import pandas as pd\n",
    "\n",
    "#Memanggil Dataset\n",
    "dataset = pd.read_csv('D:/PythonCode/bab8_SRL/dataset/Sales_Data.csv')\n",
    "x = dataset.iloc[:, :-1].values #independent variabel # Semua kolom kecuali yang terakhir (Month dan Sales)\n",
    "y = dataset.iloc[:, 1].values #dependent variabel  # Kolom kedua (Sales)\n",
    "\n",
    "#y = dataset.iloc[:, 0].values  # Jika hanya ada satu kolom"
   ]
  },
  {
   "cell_type": "code",
   "execution_count": 13,
   "id": "81c88db0",
   "metadata": {},
   "outputs": [
    {
     "name": "stdout",
     "output_type": "stream",
     "text": [
      "D:\\PythonCode\\bab8_SRL\n"
     ]
    }
   ],
   "source": [
    "#Cek Lokasi Direktori saat ini\n",
    "import os\n",
    "print(os.getcwd())"
   ]
  },
  {
   "cell_type": "code",
   "execution_count": 14,
   "id": "bb99671c",
   "metadata": {},
   "outputs": [
    {
     "name": "stdout",
     "output_type": "stream",
     "text": [
      "  BiayaPromo;NilaiPenjualan\n",
      "0                1500;90500\n",
      "1                1800;89500\n",
      "2               1900;105000\n",
      "3               2050;102000\n",
      "4                2050;90500\n"
     ]
    }
   ],
   "source": [
    "print(dataset.head())  # Tampilkan 5 baris pertama dari dataset"
   ]
  },
  {
   "cell_type": "code",
   "execution_count": 17,
   "id": "2245beef",
   "metadata": {},
   "outputs": [
    {
     "data": {
      "text/plain": [
       "Index(['BiayaPromo;NilaiPenjualan'], dtype='object')"
      ]
     },
     "execution_count": 17,
     "metadata": {},
     "output_type": "execute_result"
    }
   ],
   "source": [
    "#Untuk Melihat Variabl2 dalam dataset\n",
    "dataset.keys()"
   ]
  },
  {
   "cell_type": "code",
   "execution_count": 34,
   "id": "6c593f8b",
   "metadata": {},
   "outputs": [
    {
     "data": {
      "text/plain": [
       "(20, 2)"
      ]
     },
     "execution_count": 34,
     "metadata": {},
     "output_type": "execute_result"
    }
   ],
   "source": [
    "#Untuk Melihat shape dari dataset\n",
    "dataset.shape\n",
    "#Arti dari (20,2) adalah dataset memiliki 20 baris dan terdiri atas 2 variabel BiayaPromo dan NilaiPenjualan"
   ]
  },
  {
   "cell_type": "markdown",
   "id": "4589012f",
   "metadata": {},
   "source": [
    "## 3. Melihat isi dataset \n",
    "\n",
    "\n"
   ]
  },
  {
   "cell_type": "code",
   "execution_count": 36,
   "id": "09efc3cc",
   "metadata": {},
   "outputs": [
    {
     "data": {
      "text/html": [
       "<div>\n",
       "<style scoped>\n",
       "    .dataframe tbody tr th:only-of-type {\n",
       "        vertical-align: middle;\n",
       "    }\n",
       "\n",
       "    .dataframe tbody tr th {\n",
       "        vertical-align: top;\n",
       "    }\n",
       "\n",
       "    .dataframe thead th {\n",
       "        text-align: right;\n",
       "    }\n",
       "</style>\n",
       "<table border=\"1\" class=\"dataframe\">\n",
       "  <thead>\n",
       "    <tr style=\"text-align: right;\">\n",
       "      <th></th>\n",
       "      <th>BiayaPromo</th>\n",
       "      <th>NilaiPenjualan</th>\n",
       "    </tr>\n",
       "  </thead>\n",
       "  <tbody>\n",
       "    <tr>\n",
       "      <th>0</th>\n",
       "      <td>1500</td>\n",
       "      <td>90500</td>\n",
       "    </tr>\n",
       "    <tr>\n",
       "      <th>1</th>\n",
       "      <td>1800</td>\n",
       "      <td>89500</td>\n",
       "    </tr>\n",
       "    <tr>\n",
       "      <th>2</th>\n",
       "      <td>1900</td>\n",
       "      <td>105000</td>\n",
       "    </tr>\n",
       "    <tr>\n",
       "      <th>3</th>\n",
       "      <td>2050</td>\n",
       "      <td>102000</td>\n",
       "    </tr>\n",
       "    <tr>\n",
       "      <th>4</th>\n",
       "      <td>2050</td>\n",
       "      <td>90500</td>\n",
       "    </tr>\n",
       "  </tbody>\n",
       "</table>\n",
       "</div>"
      ],
      "text/plain": [
       "   BiayaPromo  NilaiPenjualan\n",
       "0        1500           90500\n",
       "1        1800           89500\n",
       "2        1900          105000\n",
       "3        2050          102000\n",
       "4        2050           90500"
      ]
     },
     "execution_count": 36,
     "metadata": {},
     "output_type": "execute_result"
    }
   ],
   "source": [
    "#Menampilkan isi sebagian dataset\n",
    "dataku = pd.DataFrame(dataset)\n",
    "dataku.head()"
   ]
  },
  {
   "cell_type": "markdown",
   "id": "be756bda",
   "metadata": {},
   "source": [
    "## 4. Split Dataset"
   ]
  },
  {
   "cell_type": "markdown",
   "id": "854292c5",
   "metadata": {},
   "source": [
    "### Split dataset digunakan untuk membagi dataset menjadi 2 bagian yaitu Training Set dan Testing Set. Training Set digunakan untuk data latih, yaitu menggunakan 80% dari data. Sedangkan Testing Set digunakan untuk data uji, yaitu dalam kasus ini menggunakan 20% dari data."
   ]
  },
  {
   "cell_type": "code",
   "execution_count": 52,
   "id": "b151f28d",
   "metadata": {},
   "outputs": [],
   "source": [
    "#Split Dataset menjadi Training Set dan Testing Set\n",
    "\n",
    "from sklearn.model_selection import train_test_split\n",
    "X_train, X_test, y_train, y_test, = train_test_split(x,y, test_size = 0.2, random_state = 0)\n",
    "\n",
    "#Kode diattas jika dieksekusi akan menghasilkan 4 variabel yaitu X_train, X_test, y_train, y_test lalu akan diproses dalam training dan testing model."
   ]
  },
  {
   "cell_type": "markdown",
   "id": "efe96427",
   "metadata": {},
   "source": [
    "## 5. Fitting Metode Simple Linear Regression."
   ]
  },
  {
   "cell_type": "code",
   "execution_count": 42,
   "id": "0d2d7c10",
   "metadata": {},
   "outputs": [],
   "source": [
    "#Melakukan Fitting Metode Simple Linear Regression pada training set."
   ]
  },
  {
   "cell_type": "code",
   "execution_count": 51,
   "id": "c9b00ccd",
   "metadata": {},
   "outputs": [
    {
     "data": {
      "text/plain": [
       "LinearRegression()"
      ]
     },
     "execution_count": 51,
     "metadata": {},
     "output_type": "execute_result"
    }
   ],
   "source": [
    "#Melakukan Fitting Metode Simple Linear Regression \n",
    "#pada training set.\n",
    "from sklearn.linear_model import LinearRegression\n",
    "regressor = LinearRegression()\n",
    "regressor.fit(X_train, y_train)\n"
   ]
  },
  {
   "cell_type": "markdown",
   "id": "3d84c54d",
   "metadata": {},
   "source": [
    "## 6. Melakukan prediksi untuk Hasil Test Set"
   ]
  },
  {
   "cell_type": "code",
   "execution_count": 50,
   "id": "e7befbe7",
   "metadata": {},
   "outputs": [],
   "source": [
    "#Memprediksi hasil Test-Set\n",
    "y_pred = regressor.predict(X_test)\n"
   ]
  },
  {
   "cell_type": "markdown",
   "id": "3a99a745",
   "metadata": {},
   "source": [
    "## 7. Visualisasi Data\n",
    "### Visualisasi Data antara Nilai Penjualan dan Biaya Promosi"
   ]
  },
  {
   "cell_type": "code",
   "execution_count": 54,
   "id": "3d98b25d",
   "metadata": {},
   "outputs": [
    {
     "data": {
      "image/png": "[encoded data removed]",
      "text/plain": [
       "<Figure size 432x288 with 1 Axes>"
      ]
     },
     "metadata": {
      "needs_background": "light"
     },
     "output_type": "display_data"
    }
   ],
   "source": [
    "#Visualisasi Data\n",
    "plt.scatter(dataku.BiayaPromo, dataku.NilaiPenjualan)\n",
    "plt.xlabel(\"Biaya Promosi\")\n",
    "plt.ylabel(\"Nilai Penjualan\")\n",
    "plt.title(\"Grafik Nilai Penjualan VS Biaya Promosi\")\n",
    "plt.show()"
   ]
  },
  {
   "cell_type": "markdown",
   "id": "cba0b581",
   "metadata": {},
   "source": [
    "# 8. Visualisai Hasil Machine Learning\n",
    "### Pada bagian ini akan dibuat visualisasi data menggunkan grafik plot sehingga gambaran hasil dari model secara keseluruhan dapat kita lihat."
   ]
  },
  {
   "cell_type": "code",
   "execution_count": 55,
   "id": "ab6e558c",
   "metadata": {},
   "outputs": [
    {
     "data": {
      "image/png": "[encoded data removed]",
      "text/plain": [
       "<Figure size 720x576 with 1 Axes>"
      ]
     },
     "metadata": {
      "needs_background": "light"
     },
     "output_type": "display_data"
    }
   ],
   "source": [
    "#VISUALISASI HASIL PREDIKSI PADA TRAINING-SET\n",
    "#Ukuran Plot\n",
    "plt.figure(figsize=(10,8))\n",
    "#Biru adalah data observasi\n",
    "plt.scatter(X_train, y_train, color = 'blue')\n",
    "#Garis Merah adalah hasil prediksi dari machine learning\n",
    "plt.plot(X_train, regressor.predict(X_train),color = 'red')\n",
    "#Memberi judul dan label\n",
    "plt.title('Biaya Promosi terhadap Penjualan (Training Set)')\n",
    "plt.xlabel('Biaya Promosi')\n",
    "plt.ylabel('Penjualan')\n",
    "#Menampilakan Plot\n",
    "plt.show()"
   ]
  },
  {
   "cell_type": "markdown",
   "id": "fee9d44f",
   "metadata": {},
   "source": [
    "Selanjutnya berikut adalah kode program visualisasi hasil presiksi dari test-set."
   ]
  },
  {
   "cell_type": "code",
   "execution_count": 58,
   "id": "87b4ea3d",
   "metadata": {},
   "outputs": [
    {
     "data": {
      "image/png": "[encoded data removed]",
      "text/plain": [
       "<Figure size 720x576 with 1 Axes>"
      ]
     },
     "metadata": {
      "needs_background": "light"
     },
     "output_type": "display_data"
    }
   ],
   "source": [
    "# VISUALISASI HASIL PREDIKSI PADA TEST-SET\n",
    "#Ukuran Plot\n",
    "plt.figure(figsize=(10,8))\n",
    "#Biru adalah data observasi\n",
    "plt.scatter(X_test, y_test, color = 'blue')\n",
    "#Garis Merah adalah hasil prediksi dari machine learning\n",
    "plt.plot(X_train, regressor.predict(X_train),color = 'red')\n",
    "#Memberi judul dan label\n",
    "plt.title('Biaya Promosi terhadap Penjualan (Training Set)')\n",
    "plt.xlabel('Biaya Promosi')\n",
    "plt.ylabel('Penjualan')\n",
    "#Menampilakan Plot\n",
    "plt.show()"
   ]
  },
  {
   "cell_type": "markdown",
   "id": "35246b34",
   "metadata": {},
   "source": [
    "# Kenapa pada # VISUALISASI HASIL PREDIKSI PADA TEST-SET \n",
    "\n",
    "pada line/ baris code:  plt.plot(X_train, regressor.predict(X_train),color = 'red') tidak/bukan menggunakan X_test ?\n",
    "\n",
    "Karena Garis merah mewakili regresi yang dihasilkan dari model, yang dipelajari dari X_train. Pada dasarnya, garis merah yang sama ini diaplikasikan ke plot test set karena model yang sama digunakan untuk memprediksi data test.\n",
    "\n",
    "Mengapa Menggunakan X_train di plt.plot()?\n",
    "    Garis regresi (garis merah) menunjukkan hubungan yang dipelajari model selama pelatihan (pada training set). Ketika Anda memvisualisasikan test set, Anda ingin melihat bagaimana prediksi model pada test set dibandingkan dengan model yang dipelajari dari training set.\n",
    "    Oleh karena itu, Anda tetap menggunakan X_train untuk menggambar garis merah, sementara titik-titik biru pada test set akan menunjukkan seberapa baik model tersebut menggeneralisasi data baru (data test)."
   ]
  },
  {
   "cell_type": "markdown",
   "id": "ad872b9c",
   "metadata": {},
   "source": [
    "# Visualisasi Test Set:\n",
    "\n",
    "-. Memahami Generalisasi Model: Anda dapat melihat bagaimana model performa pada data baru yang tidak terlihat (test set).\n",
    "-. Evaluasi Akurasi: Jika titik-titik biru dari test set mendekati garis merah, itu menunjukkan bahwa model mampu memprediksi dengan baik pada data baru, yang berarti model memiliki akurasi yang baik.\n",
    "-. Identifikasi Overfitting atau Underfitting: Jika performa pada test set jauh berbeda dari training set, ini bisa menjadi tanda overfitting (jika training set sangat cocok) atau underfitting (jika garis tidak sesuai dengan baik pada data mana pun).\n",
    "Jika Anda mengganti X_train dengan X_test di plt.plot(), garis regresi tetap akan terlihat sama, tetapi ini tidak akan mempengaruhi cara kita mengevaluasi model terhadap test set. Hal yang penting adalah melihat kesesuaian antara prediksi model dengan data observasi pada test set."
   ]
  },
  {
   "cell_type": "markdown",
   "id": "e3e033fd",
   "metadata": {},
   "source": [
    "## Kesimpulan:\n",
    "### Dari visualisasi - visualisai di atas, terlihat bahwa model machine learning sudah menghasilkan output berupa hasil prediksi hasil penjualan berdasarkan biaya promosi. Tanda titik-titik menunjukkan sebaran data hasil observasi atau data sesungguhnya. Sedangkan garis lurus menunjukkan nilai prediksi yang dihasilkan oleh machine learning menggunakan Simple Regresi Linear.\n"
   ]
  }
 ],
 "metadata": {
  "kernelspec": {
   "display_name": "Python 3",
   "language": "python",
   "name": "python3"
  },
  "language_info": {
   "codemirror_mode": {
    "name": "ipython",
    "version": 3
   },
   "file_extension": ".py",
   "mimetype": "text/x-python",
   "name": "python",
   "nbconvert_exporter": "python",
   "pygments_lexer": "ipython3",
   "version": "3.8.8"
  }
 },
 "nbformat": 4,
 "nbformat_minor": 5
}
